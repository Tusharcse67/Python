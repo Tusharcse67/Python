{
  "nbformat": 4,
  "nbformat_minor": 0,
  "metadata": {
    "colab": {
      "provenance": []
    },
    "kernelspec": {
      "name": "python3",
      "display_name": "Python 3"
    },
    "language_info": {
      "name": "python"
    }
  },
  "cells": [
    {
      "cell_type": "code",
      "execution_count": null,
      "metadata": {
        "colab": {
          "base_uri": "https://localhost:8080/"
        },
        "id": "VHX15DbYyaQ0",
        "outputId": "a829d9d8-58ed-48cd-fd5b-86601c64140c"
      },
      "outputs": [
        {
          "output_type": "stream",
          "name": "stdout",
          "text": [
            "This is a string\n",
            "This is a string\n",
            "This is a string\n"
          ]
        }
      ],
      "source": [
        "# Assigning string to a variable\n",
        "a = 'This is a string'\n",
        "print (a)\n",
        "b = \"This is a string\"\n",
        "print (b)\n",
        "c= '''This is a string'''\n",
        "print (c)\n"
      ]
    },
    {
      "cell_type": "code",
      "source": [
        "# Declaring a list\n",
        "L = [1, \"a\" , \"string\" , 1+2]\n",
        "print (L)\n",
        "#Adding an element in the list\n",
        "L.append(6)\n",
        "print (L)\n",
        "#Deleting last element from a list\n",
        "L.pop()\n",
        "print (L)\n",
        "#Displaying Second element of the list\n",
        "print (L[1])\n",
        "#Deleteing Element from the list\n",
        "del L[3]\n",
        "print(L)\n",
        "#Adding an Floating element in the list\n",
        "L.append(5.56)\n",
        "print (L)\n",
        "#Poping element from List\n",
        "L.pop()\n",
        "print (L)"
      ],
      "metadata": {
        "colab": {
          "base_uri": "https://localhost:8080/"
        },
        "id": "NHL4l79OzDhN",
        "outputId": "4bd7efab-5759-4f5f-82b5-b955cf3d2203"
      },
      "execution_count": null,
      "outputs": [
        {
          "output_type": "stream",
          "name": "stdout",
          "text": [
            "[1, 'a', 'string', 3]\n",
            "[1, 'a', 'string', 3, 6]\n",
            "[1, 'a', 'string', 3]\n",
            "a\n",
            "[1, 'a', 'string']\n",
            "[1, 'a', 'string', 5.56]\n",
            "[1, 'a', 'string']\n"
          ]
        }
      ]
    },
    {
      "cell_type": "code",
      "source": [],
      "metadata": {
        "id": "q1fCXD3T03bF"
      },
      "execution_count": null,
      "outputs": []
    },
    {
      "cell_type": "code",
      "source": [
        "tup = (1, \"a\", \"string\", 1+2)\n",
        "print(tup)\n",
        "print(tup[1])\n",
        "#Concatenating Tuples\n",
        "tup2= (5, 6)\n",
        "combined_tuple = tup + tup2\n",
        "print(combined_tuple)\n",
        "#Finding Length\n",
        "len(combined_tuple)\n",
        "#Checking for Membership\n",
        "\"a\" in combined_tuple\n"
      ],
      "metadata": {
        "colab": {
          "base_uri": "https://localhost:8080/"
        },
        "id": "V_n0hUKS17eV",
        "outputId": "f1598c72-396f-4500-9bd8-9c31555426a8"
      },
      "execution_count": null,
      "outputs": [
        {
          "output_type": "stream",
          "name": "stdout",
          "text": [
            "(1, 'a', 'string', 3)\n",
            "a\n",
            "(1, 'a', 'string', 3, 5, 6)\n"
          ]
        },
        {
          "output_type": "execute_result",
          "data": {
            "text/plain": [
              "True"
            ]
          },
          "metadata": {},
          "execution_count": 28
        }
      ]
    },
    {
      "cell_type": "code",
      "source": [
        "d = {1: 'Lorem', 2: 'Ipsum', 3: 'Dolerum'}\n",
        "print(d)"
      ],
      "metadata": {
        "colab": {
          "base_uri": "https://localhost:8080/"
        },
        "id": "ruekDvC15XHW",
        "outputId": "6bdc74d2-1088-4916-bb9a-332f6b0970ca"
      },
      "execution_count": null,
      "outputs": [
        {
          "output_type": "stream",
          "name": "stdout",
          "text": [
            "{1: 'Lorem', 2: 'Ipsum', 3: 'Dolerum'}\n"
          ]
        }
      ]
    },
    {
      "cell_type": "code",
      "source": [
        "# create dictionary using { }\n",
        "d1 = {1: 'Game', 2: 'of', 3: 'Thrones'}\n",
        "print(d1)\n",
        "\n",
        "# create dictionary using dict() constructor\n",
        "d2 = dict(a = \"House\", b = \"of\", c = \"Cards\")\n",
        "print(d2)"
      ],
      "metadata": {
        "colab": {
          "base_uri": "https://localhost:8080/"
        },
        "id": "CNPqzPBP5kFl",
        "outputId": "31be2a4b-86a8-4e00-bfdb-03f7e66782a5"
      },
      "execution_count": null,
      "outputs": [
        {
          "output_type": "stream",
          "name": "stdout",
          "text": [
            "{1: 'Game', 2: 'of', 3: 'Thrones'}\n",
            "{'a': 'House', 'b': 'of', 'c': 'Cards'}\n"
          ]
        }
      ]
    },
    {
      "cell_type": "code",
      "source": [
        "d = { \"name\": \"Alice\", 1: \"Python\", (1, 2): [1,2,4] }\n",
        "\n",
        "# Access using key\n",
        "print(d[\"name\"])\n",
        "\n",
        "# Access using get()\n",
        "print(d.get(\"name\"))"
      ],
      "metadata": {
        "colab": {
          "base_uri": "https://localhost:8080/"
        },
        "id": "OK22q4Rr5ux1",
        "outputId": "9299423a-eb97-4c38-9492-936b98abf7e6"
      },
      "execution_count": null,
      "outputs": [
        {
          "output_type": "stream",
          "name": "stdout",
          "text": [
            "Alice\n",
            "Alice\n"
          ]
        }
      ]
    },
    {
      "cell_type": "code",
      "source": [
        "d = {1: 'Game', 2: 'of', 3: 'Thrones'}\n",
        "\n",
        "# Adding a new key-value pair\n",
        "d[\"age\"] = 22\n",
        "\n",
        "# Updating an existing value\n",
        "d[1] = \"Python dict\"\n",
        "\n",
        "print(d)"
      ],
      "metadata": {
        "colab": {
          "base_uri": "https://localhost:8080/"
        },
        "id": "d_Ab2lMv5za2",
        "outputId": "ed316505-d8d8-4034-e5ed-9031452a6243"
      },
      "execution_count": null,
      "outputs": [
        {
          "output_type": "stream",
          "name": "stdout",
          "text": [
            "{1: 'Python dict', 2: 'of', 3: 'Thrones', 'age': 22}\n"
          ]
        }
      ]
    },
    {
      "cell_type": "code",
      "source": [
        "# 1. Create a dictionary\n",
        "d = {1: 'Tushar', 2: 'Mayank', 3: 'Madhav', 4: 'Saby' , 5: 'Shubham' , 6: 'Swayam'}\n",
        "print(d[1])\n",
        "\n",
        "# 1. Accessing values using keys\n",
        "print(\"Value for key 1:\", d[1])\n",
        "\n",
        "# 2. Using .get() to access values (safer way)\n",
        "print(\"Value for key 3:\", d.get(3))\n",
        "print(\"Value for non-existing key 7:\", d.get(7))\n",
        "# 3. Adding a new key-value pair\n",
        "d[7] = 'Ravi'\n",
        "print(\"Dictionary after adding new key-value:\", d)\n",
        "\n",
        "# 4. Updating an existing value\n",
        "d[5] = 'Shubham Updated'\n",
        "print(\"Dictionary after updating key 5:\", d)\n",
        "\n",
        "# 5. Removing a key-value pair using del\n",
        "del d[2]\n",
        "print(\"Dictionary after deleting key 2:\", d)\n",
        "\n",
        "# 6. Removing a key-value pair using .pop() (returns the value)\n",
        "removed_value = d.pop(6)\n",
        "print(\"Removed value for key 6:\", removed_value)\n",
        "print(\"Dictionary after pop:\", d)\n",
        "\n",
        "# 7. Using .popitem() to remove the last inserted key-value pair\n",
        "last_item = d.popitem()\n",
        "print(\"Removed last item:\", last_item)\n",
        "print(\"Dictionary after popitem:\", d)\n",
        "\n",
        "# 8. Clearing all items from the dictionary\n",
        "d.clear()  # Clears the entire dictionary\n",
        "print(\"Dictionary after clear:\", d)\n",
        "\n",
        "# 9. Checking if a key exists in the dictionary\n",
        "d = {1: 'Tushar', 2: 'Mayank', 3: 'Madhav', 4: 'Saby', 5: 'Shubham', 6: 'Swayam'}\n",
        "print(\"Is key 3 in dictionary?\", 3 in d)\n",
        "print(\"Is key 7 in dictionary?\", 7 in d)\n",
        "\n",
        "# 10. Iterating over keys, values, and key-value pairs\n",
        "# Iterating over keys\n",
        "print(\"Keys in dictionary:\")\n",
        "for key in d:\n",
        "    print(key)\n"
      ],
      "metadata": {
        "colab": {
          "base_uri": "https://localhost:8080/"
        },
        "id": "YPpVSfjw6ERV",
        "outputId": "76c4ad31-9af0-4611-94bc-4b2cb7bdb4f2"
      },
      "execution_count": null,
      "outputs": [
        {
          "output_type": "stream",
          "name": "stdout",
          "text": [
            "Tushar\n",
            "Value for key 1: Tushar\n",
            "Value for key 3: Madhav\n",
            "Value for non-existing key 7: None\n",
            "Dictionary after adding new key-value: {1: 'Tushar', 2: 'Mayank', 3: 'Madhav', 4: 'Saby', 5: 'Shubham', 6: 'Swayam', 7: 'Ravi'}\n",
            "Dictionary after updating key 5: {1: 'Tushar', 2: 'Mayank', 3: 'Madhav', 4: 'Saby', 5: 'Shubham Updated', 6: 'Swayam', 7: 'Ravi'}\n",
            "Dictionary after deleting key 2: {1: 'Tushar', 3: 'Madhav', 4: 'Saby', 5: 'Shubham Updated', 6: 'Swayam', 7: 'Ravi'}\n",
            "Removed value for key 6: Swayam\n",
            "Dictionary after pop: {1: 'Tushar', 3: 'Madhav', 4: 'Saby', 5: 'Shubham Updated', 7: 'Ravi'}\n",
            "Removed last item: (7, 'Ravi')\n",
            "Dictionary after popitem: {1: 'Tushar', 3: 'Madhav', 4: 'Saby', 5: 'Shubham Updated'}\n",
            "Dictionary after clear: {}\n",
            "Is key 3 in dictionary? True\n",
            "Is key 7 in dictionary? False\n",
            "Keys in dictionary:\n",
            "1\n",
            "2\n",
            "3\n",
            "4\n",
            "5\n",
            "6\n"
          ]
        }
      ]
    }
  ]
}