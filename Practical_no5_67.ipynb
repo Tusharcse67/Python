{
  "nbformat": 4,
  "nbformat_minor": 0,
  "metadata": {
    "colab": {
      "provenance": []
    },
    "kernelspec": {
      "name": "python3",
      "display_name": "Python 3"
    },
    "language_info": {
      "name": "python"
    }
  },
  "cells": [
    {
      "cell_type": "code",
      "source": [
        "class StackDepth:\n",
        "    def maximumDepth(self, stringInput: str) -> int:\n",
        "        max_depth = 0\n",
        "        current_depth = 0\n",
        "\n",
        "        # Iterate through each character in the string\n",
        "        for char in stringInput:\n",
        "            if char == '(':\n",
        "                current_depth += 1\n",
        "                max_depth = max(max_depth, current_depth)\n",
        "            elif char == ')':\n",
        "                current_depth -= 1\n",
        "\n",
        "        return max_depth\n",
        "\n",
        "\n",
        "\n",
        "stack_depth = StackDepth()\n",
        "\n",
        "print(stack_depth.maximumDepth(\"(1+(2*3)+((8)/4))+1\"))\n",
        "print(stack_depth.maximumDepth(\"(1)+((2))+(((3)))\"))\n",
        "print(stack_depth.maximumDepth(\"()(())((()()))\"))\n"
      ],
      "metadata": {
        "colab": {
          "base_uri": "https://localhost:8080/"
        },
        "id": "o2HRBouyFQiQ",
        "outputId": "c60a5b34-16ee-4640-9332-599311255c32"
      },
      "execution_count": null,
      "outputs": [
        {
          "output_type": "stream",
          "name": "stdout",
          "text": [
            "3\n",
            "3\n",
            "3\n"
          ]
        }
      ]
    }
  ]
}