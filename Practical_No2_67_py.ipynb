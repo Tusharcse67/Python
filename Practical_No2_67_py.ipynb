{
  "nbformat": 4,
  "nbformat_minor": 0,
  "metadata": {
    "colab": {
      "provenance": []
    },
    "kernelspec": {
      "name": "python3",
      "display_name": "Python 3"
    },
    "language_info": {
      "name": "python"
    }
  },
  "cells": [
    {
      "cell_type": "code",
      "execution_count": null,
      "metadata": {
        "colab": {
          "base_uri": "https://localhost:8080/"
        },
        "id": "sFBOnfJo6Fsn",
        "outputId": "c88f7d86-9e25-4c72-8f7f-a224ea816b2e"
      },
      "outputs": [
        {
          "output_type": "stream",
          "name": "stdout",
          "text": [
            "True\n",
            "False\n",
            "True\n"
          ]
        }
      ],
      "source": [
        "class conditionalStatements:\n",
        "  def checkString (self, s : str) -> bool:\n",
        "    for i in range(len(s)):\n",
        "      if s[i] == 'b':\n",
        "         if 'a' in s[i:]:\n",
        "            return False\n",
        "         return True\n",
        "\n",
        "\n",
        "obj = conditionalStatements()\n",
        "print(obj.checkString(\"aaabbb\"))\n",
        "print(obj.checkString(\"abab\"))\n",
        "print(obj.checkString(\"bbb\"))"
      ]
    }
  ]
}